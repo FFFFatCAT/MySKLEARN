{
 "metadata": {
  "language_info": {
   "codemirror_mode": {
    "name": "ipython",
    "version": 3
   },
   "file_extension": ".py",
   "mimetype": "text/x-python",
   "name": "python",
   "nbconvert_exporter": "python",
   "pygments_lexer": "ipython3",
   "version": "3.6.10-final"
  },
  "orig_nbformat": 2,
  "kernelspec": {
   "name": "python361064bitdataconda38c3f5bb27df4ef8a601d9670838447b",
   "display_name": "Python 3.6.10 64-bit ('data': conda)"
  }
 },
 "nbformat": 4,
 "nbformat_minor": 2,
 "cells": [
  {
   "cell_type": "markdown",
   "metadata": {},
   "source": [
    "线性模型主要用于解决回归问题，输出值为多个输入变量的线性组合。\n",
    "\n",
    "分类问题可采用logistics regression\n",
    "\n",
    "1. ordinary least squares 最小二乘"
   ]
  },
  {
   "cell_type": "code",
   "execution_count": 1,
   "metadata": {},
   "outputs": [
    {
     "output_type": "execute_result",
     "data": {
      "text/plain": "array([0.5, 0.5])"
     },
     "metadata": {},
     "execution_count": 1
    }
   ],
   "source": [
    "from sklearn import linear_model\n",
    "reg = linear_model.LinearRegression()\n",
    "reg.fit([[0,0], [1,1], [2,2]],[0,1,2])\n",
    "reg.coef_"
   ]
  },
  {
   "cell_type": "code",
   "execution_count": 5,
   "metadata": {
    "tags": []
   },
   "outputs": [
    {
     "output_type": "stream",
     "name": "stdout",
     "text": "coefficients:\n [938.23786125]\nmean square error: 2548.07\ncoefficient of determination: 0.47\n"
    },
    {
     "output_type": "display_data",
     "data": {
      "text/plain": "<Figure size 432x288 with 1 Axes>",
      "image/svg+xml": "<?xml version=\"1.0\" encoding=\"utf-8\" standalone=\"no\"?>\r\n<!DOCTYPE svg PUBLIC \"-//W3C//DTD SVG 1.1//EN\"\r\n  \"http://www.w3.org/Graphics/SVG/1.1/DTD/svg11.dtd\">\r\n<!-- Created with matplotlib (https://matplotlib.org/) -->\r\n<svg height=\"235.34pt\" version=\"1.1\" viewBox=\"0 0 352.7 235.34\" width=\"352.7pt\" xmlns=\"http://www.w3.org/2000/svg\" xmlns:xlink=\"http://www.w3.org/1999/xlink\">\r\n <defs>\r\n  <style type=\"text/css\">\r\n*{stroke-linecap:butt;stroke-linejoin:round;}\r\n  </style>\r\n </defs>\r\n <g id=\"figure_1\">\r\n  <g id=\"patch_1\">\r\n   <path d=\"M 0 235.34 \r\nL 352.7 235.34 \r\nL 352.7 0 \r\nL 0 0 \r\nz\r\n\" style=\"fill:none;\"/>\r\n  </g>\r\n  <g id=\"axes_1\">\r\n   <g id=\"patch_2\">\r\n    <path d=\"M 10.7 224.64 \r\nL 345.5 224.64 \r\nL 345.5 7.2 \r\nL 10.7 7.2 \r\nz\r\n\" style=\"fill:#ffffff;\"/>\r\n   </g>\r\n   <g id=\"PathCollection_1\">\r\n    <defs>\r\n     <path d=\"M 0 3 \r\nC 0.795609 3 1.55874 2.683901 2.12132 2.12132 \r\nC 2.683901 1.55874 3 0.795609 3 0 \r\nC 3 -0.795609 2.683901 -1.55874 2.12132 -2.12132 \r\nC 1.55874 -2.683901 0.795609 -3 0 -3 \r\nC -0.795609 -3 -1.55874 -2.683901 -2.12132 -2.12132 \r\nC -2.683901 -1.55874 -3 -0.795609 -3 0 \r\nC -3 0.795609 -2.683901 1.55874 -2.12132 2.12132 \r\nC -1.55874 2.683901 -0.795609 3 0 3 \r\nz\r\n\" id=\"m149fc922e5\" style=\"stroke:#000000;\"/>\r\n    </defs>\r\n    <g clip-path=\"url(#p191de8cc82)\">\r\n     <use style=\"stroke:#000000;\" x=\"297.029396\" xlink:href=\"#m149fc922e5\" y=\"75.182583\"/>\r\n     <use style=\"stroke:#000000;\" x=\"99.116355\" xlink:href=\"#m149fc922e5\" y=\"182.306901\"/>\r\n     <use style=\"stroke:#000000;\" x=\"184.455006\" xlink:href=\"#m149fc922e5\" y=\"167.218969\"/>\r\n     <use style=\"stroke:#000000;\" x=\"97.300639\" xlink:href=\"#m149fc922e5\" y=\"136.288708\"/>\r\n     <use style=\"stroke:#000000;\" x=\"108.194935\" xlink:href=\"#m149fc922e5\" y=\"160.4294\"/>\r\n     <use style=\"stroke:#000000;\" x=\"175.376426\" xlink:href=\"#m149fc922e5\" y=\"200.41242\"/>\r\n     <use style=\"stroke:#000000;\" x=\"315.186556\" xlink:href=\"#m149fc922e5\" y=\"17.094045\"/>\r\n     <use style=\"stroke:#000000;\" x=\"110.010651\" xlink:href=\"#m149fc922e5\" y=\"180.043711\"/>\r\n     <use style=\"stroke:#000000;\" x=\"70.0649\" xlink:href=\"#m149fc922e5\" y=\"112.902414\"/>\r\n     <use style=\"stroke:#000000;\" x=\"113.642083\" xlink:href=\"#m149fc922e5\" y=\"201.166816\"/>\r\n     <use style=\"stroke:#000000;\" x=\"258.899361\" xlink:href=\"#m149fc922e5\" y=\"120.44638\"/>\r\n     <use style=\"stroke:#000000;\" x=\"64.617752\" xlink:href=\"#m149fc922e5\" y=\"196.640437\"/>\r\n     <use style=\"stroke:#000000;\" x=\"168.113562\" xlink:href=\"#m149fc922e5\" y=\"213.991559\"/>\r\n     <use style=\"stroke:#000000;\" x=\"126.352095\" xlink:href=\"#m149fc922e5\" y=\"202.67561\"/>\r\n     <use style=\"stroke:#000000;\" x=\"41.013444\" xlink:href=\"#m149fc922e5\" y=\"214.745955\"/>\r\n     <use style=\"stroke:#000000;\" x=\"198.980734\" xlink:href=\"#m149fc922e5\" y=\"116.674397\"/>\r\n     <use style=\"stroke:#000000;\" x=\"139.062107\" xlink:href=\"#m149fc922e5\" y=\"172.499745\"/>\r\n     <use style=\"stroke:#000000;\" x=\"139.062107\" xlink:href=\"#m149fc922e5\" y=\"151.37664\"/>\r\n     <use style=\"stroke:#000000;\" x=\"231.663621\" xlink:href=\"#m149fc922e5\" y=\"84.989739\"/>\r\n     <use style=\"stroke:#000000;\" x=\"42.82916\" xlink:href=\"#m149fc922e5\" y=\"207.956386\"/>\r\n    </g>\r\n   </g>\r\n   <g id=\"matplotlib.axis_1\"/>\r\n   <g id=\"matplotlib.axis_2\"/>\r\n   <g id=\"line2d_1\">\r\n    <path clip-path=\"url(#p191de8cc82)\" d=\"M 297.029396 80.483547 \r\nL 99.116355 163.63737 \r\nL 184.455006 127.782052 \r\nL 97.300639 164.400249 \r\nL 108.194935 159.822975 \r\nL 175.376426 131.596448 \r\nL 315.186556 72.854756 \r\nL 110.010651 159.060096 \r\nL 70.0649 175.843436 \r\nL 113.642083 157.534337 \r\nL 258.899361 96.504008 \r\nL 64.617752 178.132074 \r\nL 168.113562 134.647964 \r\nL 126.352095 152.194184 \r\nL 41.013444 188.049502 \r\nL 198.980734 121.679019 \r\nL 139.062107 146.85403 \r\nL 139.062107 146.85403 \r\nL 231.663621 107.947195 \r\nL 42.82916 187.286623 \r\n\" style=\"fill:none;stroke:#0000ff;stroke-linecap:square;stroke-width:3;\"/>\r\n   </g>\r\n   <g id=\"patch_3\">\r\n    <path d=\"M 10.7 224.64 \r\nL 10.7 7.2 \r\n\" style=\"fill:none;stroke:#000000;stroke-linecap:square;stroke-linejoin:miter;stroke-width:0.8;\"/>\r\n   </g>\r\n   <g id=\"patch_4\">\r\n    <path d=\"M 345.5 224.64 \r\nL 345.5 7.2 \r\n\" style=\"fill:none;stroke:#000000;stroke-linecap:square;stroke-linejoin:miter;stroke-width:0.8;\"/>\r\n   </g>\r\n   <g id=\"patch_5\">\r\n    <path d=\"M 10.7 224.64 \r\nL 345.5 224.64 \r\n\" style=\"fill:none;stroke:#000000;stroke-linecap:square;stroke-linejoin:miter;stroke-width:0.8;\"/>\r\n   </g>\r\n   <g id=\"patch_6\">\r\n    <path d=\"M 10.7 7.2 \r\nL 345.5 7.2 \r\n\" style=\"fill:none;stroke:#000000;stroke-linecap:square;stroke-linejoin:miter;stroke-width:0.8;\"/>\r\n   </g>\r\n  </g>\r\n </g>\r\n <defs>\r\n  <clipPath id=\"p191de8cc82\">\r\n   <rect height=\"217.44\" width=\"334.8\" x=\"10.7\" y=\"7.2\"/>\r\n  </clipPath>\r\n </defs>\r\n</svg>\r\n",
      "image/png": "[encoded data removed]"
     },
     "metadata": {}
    }
   ],
   "source": [
    "# Examples\n",
    "import matplotlib.pyplot as plt\n",
    "import numpy as np\n",
    "from sklearn import datasets, linear_model\n",
    "from sklearn.metrics import mean_squared_error, r2_score\n",
    "\n",
    "# loading the dataset\n",
    "diabetes_X, diabetes_Y = datasets.load_diabetes(return_X_y=True)\n",
    "\n",
    "# only use one feature\n",
    "diabetes_X = diabetes_X[:, np.newaxis,2]\n",
    "\n",
    "# split the data into training/testing sets\n",
    "diabetes_X_train = diabetes_X[:-20]\n",
    "diabetes_X_test = diabetes_X[-20:]\n",
    "\n",
    "# split the targets into training/testing sets\n",
    "diabetes_Y_train = diabetes_Y[:-20]\n",
    "diabetes_Y_test = diabetes_Y[-20:]\n",
    "\n",
    "# create linear regression model\n",
    "regr = linear_model.LinearRegression()\n",
    "\n",
    "# training the model using the training sets\n",
    "regr.fit(diabetes_X_train, diabetes_Y_train)\n",
    "\n",
    "# make prediction using the training sets\n",
    "diabetes_Y_pred = regr.predict(diabetes_X_test)\n",
    "\n",
    "# the coefficients\n",
    "print(\"coefficients:\\n\", regr.coef_)\n",
    "\n",
    "# mean square error\n",
    "print(\"mean square error: %.2f\" %mean_squared_error(diabetes_Y_test, diabetes_Y_pred))\n",
    "\n",
    "# the coefficient of determination: 1 is perfect prediction\n",
    "print(\"coefficient of determination: %.2f\" %r2_score(diabetes_Y_test, diabetes_Y_pred))\n",
    "\n",
    "# plot output\n",
    "plt.scatter(diabetes_X_test, diabetes_Y_test, color='black')\n",
    "plt.plot(diabetes_X_test, diabetes_Y_pred, color='blue', linewidth=3)\n",
    "plt.xticks(())\n",
    "plt.yticks(())\n",
    "plt.show()"
   ]
  },
  {
   "cell_type": "code",
   "execution_count": null,
   "metadata": {},
   "outputs": [],
   "source": []
  }
 ]
}